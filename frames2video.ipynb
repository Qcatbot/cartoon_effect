{
 "cells": [
  {
   "cell_type": "code",
   "execution_count": 1,
   "metadata": {},
   "outputs": [],
   "source": [
    "import os\n",
    "import cv2\n",
    "import numpy as np\n",
    "import math\n",
    "import natsort \n",
    "import fnmatch\n",
    "from PIL import Image\n",
    "import subprocess"
   ]
  },
  {
   "cell_type": "code",
   "execution_count": 2,
   "metadata": {},
   "outputs": [],
   "source": [
    "path = \"/home/m/Documents/cartoon/frames\"\n",
    "files = fnmatch.filter(os.listdir(path), '*.jpg') # get all the .jpg files"
   ]
  },
  {
   "cell_type": "code",
   "execution_count": 3,
   "metadata": {},
   "outputs": [],
   "source": [
    "image_files = natsort.natsorted(files,reverse=False) # to sort out all the files in acending order"
   ]
  },
  {
   "cell_type": "code",
   "execution_count": 4,
   "metadata": {},
   "outputs": [],
   "source": [
    "down_sample = up_sample = 2       # downsampling/upsampling applies twice"
   ]
  },
  {
   "cell_type": "code",
   "execution_count": 5,
   "metadata": {},
   "outputs": [],
   "source": [
    "for file in image_files:\n",
    "    img = cv2.imread(f\"/home/m/Documents/cartoon/frames/{file}\")\n",
    "    \n",
    "    im_color = img\n",
    "    \n",
    "    for _ in range(down_sample):\n",
    "        im_color = cv2.pyrDown(im_color)\n",
    "        \n",
    "    \"\"\"Apply average filtering\"\"\"\n",
    "    kernel = np.ones((5,5),np.float32)/math.pi #define kernal size\n",
    "    im_color = cv2.filter2D(im_color,-1,kernel)\n",
    "    \n",
    "    \"\"\"upsampling the image to the original size\"\"\"\n",
    "    for _ in range(up_sample):\n",
    "        im_color = cv2.pyrUp(im_color)\n",
    "    \n",
    "    \"\"\"Convert RGB to GARY scale\"\"\"\n",
    "    im_gray = cv2.cvtColor(img, cv2.COLOR_BGR2GRAY)\n",
    "    \n",
    "    \"\"\"Apply gaussian blur\"\"\"\n",
    "    im_blur = cv2.GaussianBlur(im_gray, (5,5), cv2.BORDER_DEFAULT) \n",
    "    \n",
    "    #  Apply adaptive thresholding for the image\n",
    "    im_edge = cv2.adaptiveThreshold(im_blur, 255,\n",
    "                                 cv2.ADAPTIVE_THRESH_GAUSSIAN_C,\n",
    "                                 cv2.THRESH_BINARY,\n",
    "                                 blockSize=9,\n",
    "                                 C=2)\n",
    "    im_edge = cv2.cvtColor(im_edge, cv2.COLOR_GRAY2RGB) #Convert back to RGB\n",
    "    cartoon = cv2.addWeighted(im_color,0.6,im_edge,0.4,0) # take two images & blend them together.\n",
    "    \n",
    "    save_to = '/home/m/Documents/cartoon/frames_cartoon'\n",
    "    cv2.imwrite(os.path.join(save_to , f'{file}'), cartoon)\n",
    "    cv2.waitKey(0)"
   ]
  },
  {
   "cell_type": "code",
   "execution_count": 6,
   "metadata": {},
   "outputs": [],
   "source": [
    "save_to = \"/home/m/Documents/cartoon/frames_cartoon\" # path to save the resized images\n",
    "irobot = 'iRobot_.mp4'\n",
    "\n",
    "images = [im for im in os.listdir(save_to) if im.endswith(\".jpg\")]\n",
    "images = natsort.natsorted(images,reverse=False) # to sort out all the files in acending order"
   ]
  },
  {
   "cell_type": "code",
   "execution_count": 7,
   "metadata": {},
   "outputs": [],
   "source": [
    "frame = cv2.imread(os.path.join(save_to, images[0]))\n",
    "height, width, channel = frame.shape\n",
    "\n",
    "video = cv2.VideoWriter(irobot, cv2.VideoWriter_fourcc(*'XVID'), 30, (width,height))\n",
    "for image in images:\n",
    "    video.write(cv2.imread(os.path.join(save_to, image)))\n",
    "\n",
    "cv2.destroyAllWindows()\n",
    "video.release()"
   ]
  },
  {
   "cell_type": "code",
   "execution_count": null,
   "metadata": {},
   "outputs": [],
   "source": []
  },
  {
   "cell_type": "code",
   "execution_count": null,
   "metadata": {},
   "outputs": [],
   "source": []
  },
  {
   "cell_type": "code",
   "execution_count": null,
   "metadata": {},
   "outputs": [],
   "source": []
  },
  {
   "cell_type": "code",
   "execution_count": null,
   "metadata": {},
   "outputs": [],
   "source": []
  },
  {
   "cell_type": "code",
   "execution_count": null,
   "metadata": {},
   "outputs": [],
   "source": []
  },
  {
   "cell_type": "code",
   "execution_count": null,
   "metadata": {},
   "outputs": [],
   "source": []
  },
  {
   "cell_type": "code",
   "execution_count": null,
   "metadata": {},
   "outputs": [],
   "source": []
  }
 ],
 "metadata": {
  "kernelspec": {
   "display_name": "Python 3",
   "language": "python",
   "name": "python3"
  },
  "language_info": {
   "codemirror_mode": {
    "name": "ipython",
    "version": 3
   },
   "file_extension": ".py",
   "mimetype": "text/x-python",
   "name": "python",
   "nbconvert_exporter": "python",
   "pygments_lexer": "ipython3",
   "version": "3.7.3"
  }
 },
 "nbformat": 4,
 "nbformat_minor": 2
}
